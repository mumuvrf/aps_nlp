{
 "cells": [
  {
   "cell_type": "code",
   "execution_count": 40,
   "id": "06a6c598",
   "metadata": {},
   "outputs": [
    {
     "data": {
      "text/html": [
       "<div>\n",
       "<style scoped>\n",
       "    .dataframe tbody tr th:only-of-type {\n",
       "        vertical-align: middle;\n",
       "    }\n",
       "\n",
       "    .dataframe tbody tr th {\n",
       "        vertical-align: top;\n",
       "    }\n",
       "\n",
       "    .dataframe thead th {\n",
       "        text-align: right;\n",
       "    }\n",
       "</style>\n",
       "<table border=\"1\" class=\"dataframe\">\n",
       "  <thead>\n",
       "    <tr style=\"text-align: right;\">\n",
       "      <th></th>\n",
       "      <th>0</th>\n",
       "      <th>code</th>\n",
       "      <th>message</th>\n",
       "      <th>message_english</th>\n",
       "      <th>is_code_related</th>\n",
       "    </tr>\n",
       "  </thead>\n",
       "  <tbody>\n",
       "    <tr>\n",
       "      <th>0</th>\n",
       "      <td>1</td>\n",
       "      <td>\\nFile:amigos.html\\nCode modifications:\\n@@ -2...</td>\n",
       "      <td>Merge pull request #1 from mumuvrf/franco\\n\\na...</td>\n",
       "      <td>Merge pull request #1 from mumuvrf/franco\\n\\na...</td>\n",
       "      <td>1</td>\n",
       "    </tr>\n",
       "    <tr>\n",
       "      <th>1</th>\n",
       "      <td>2</td>\n",
       "      <td>\\nFile:amigos.html\\nCode modifications:\\n@@ -2...</td>\n",
       "      <td>alteracao campus mobile</td>\n",
       "      <td>Change Mobile Campus</td>\n",
       "      <td>0</td>\n",
       "    </tr>\n",
       "    <tr>\n",
       "      <th>2</th>\n",
       "      <td>3</td>\n",
       "      <td>\\nFile:css/index.css\\nCode modifications:\\n@@ ...</td>\n",
       "      <td>Corrige os botões</td>\n",
       "      <td>Corrects the buttons</td>\n",
       "      <td>1</td>\n",
       "    </tr>\n",
       "  </tbody>\n",
       "</table>\n",
       "</div>"
      ],
      "text/plain": [
       "0  0                                               code  \\\n",
       "0  1  \\nFile:amigos.html\\nCode modifications:\\n@@ -2...   \n",
       "1  2  \\nFile:amigos.html\\nCode modifications:\\n@@ -2...   \n",
       "2  3  \\nFile:css/index.css\\nCode modifications:\\n@@ ...   \n",
       "\n",
       "0                                            message  \\\n",
       "0  Merge pull request #1 from mumuvrf/franco\\n\\na...   \n",
       "1                            alteracao campus mobile   \n",
       "2                                  Corrige os botões   \n",
       "\n",
       "0                                    message_english is_code_related  \n",
       "0  Merge pull request #1 from mumuvrf/franco\\n\\na...               1  \n",
       "1                               Change Mobile Campus               0  \n",
       "2                               Corrects the buttons               1  "
      ]
     },
     "execution_count": 40,
     "metadata": {},
     "output_type": "execute_result"
    }
   ],
   "source": [
    "import pandas as pd\n",
    "\n",
    "df = pd.read_excel('data.xlsx')\n",
    "df.columns = df.iloc[0]\n",
    "df = df[1:]\n",
    "df = df.dropna()\n",
    "df = df.reset_index(drop=True)\n",
    "df.head(3)"
   ]
  },
  {
   "cell_type": "code",
   "execution_count": 41,
   "id": "4d60e54f",
   "metadata": {},
   "outputs": [],
   "source": [
    "df['is_code_related'] = df['is_code_related'].apply(lambda x: \"yes\" if x == 1 else \"no\")"
   ]
  },
  {
   "cell_type": "code",
   "execution_count": 45,
   "id": "d9c00ad3",
   "metadata": {},
   "outputs": [],
   "source": [
    "from sklearn.model_selection import train_test_split\n",
    "from sklearn.feature_extraction.text import CountVectorizer, TfidfVectorizer\n",
    "from sklearn.linear_model import LogisticRegression\n",
    "from sklearn.pipeline import Pipeline\n",
    "from sklearn.metrics import f1_score\n",
    "\n",
    "model = Pipeline([\n",
    "    ('vectorizer', CountVectorizer(binary=True)),\n",
    "    ('classifier', LogisticRegression())\n",
    "])\n",
    "\n",
    "X_train, X_test, y_train, y_test = train_test_split(df['message_english'], df['is_code_related'], test_size=0.2)"
   ]
  },
  {
   "cell_type": "code",
   "execution_count": 46,
   "id": "02c1b1f6",
   "metadata": {},
   "outputs": [
    {
     "name": "stdout",
     "output_type": "stream",
     "text": [
      "F1-score: 0.84\n"
     ]
    }
   ],
   "source": [
    "model.fit(X_train, y_train)\n",
    "y_pred = model.predict(X_test)\n",
    "\n",
    "f1 = f1_score(y_test, y_pred, average='macro')\n",
    "print(f'F1-score: {f1:.2f}')"
   ]
  },
  {
   "cell_type": "code",
   "execution_count": 47,
   "id": "5bb09718",
   "metadata": {},
   "outputs": [
    {
     "name": "stdout",
     "output_type": "stream",
     "text": [
      "[[0.86153846 0.13846154]\n",
      " [0.16814159 0.83185841]]\n"
     ]
    },
    {
     "data": {
      "image/png": "[encoded data removed]",
      "text/plain": [
       "<Figure size 640x480 with 2 Axes>"
      ]
     },
     "metadata": {},
     "output_type": "display_data"
    }
   ],
   "source": [
    "import matplotlib.pyplot as plt\n",
    "from sklearn.metrics import confusion_matrix,  ConfusionMatrixDisplay\n",
    "\n",
    "c = confusion_matrix(y_test, y_pred, normalize='true')\n",
    "print(c)\n",
    "_ = ConfusionMatrixDisplay(c, display_labels=['negative', 'positive']).plot()"
   ]
  },
  {
   "cell_type": "code",
   "execution_count": null,
   "id": "db37c7f3",
   "metadata": {},
   "outputs": [],
   "source": []
  }
 ],
 "metadata": {
  "kernelspec": {
   "display_name": "env",
   "language": "python",
   "name": "python3"
  },
  "language_info": {
   "codemirror_mode": {
    "name": "ipython",
    "version": 3
   },
   "file_extension": ".py",
   "mimetype": "text/x-python",
   "name": "python",
   "nbconvert_exporter": "python",
   "pygments_lexer": "ipython3",
   "version": "3.10.11"
  }
 },
 "nbformat": 4,
 "nbformat_minor": 5
}
