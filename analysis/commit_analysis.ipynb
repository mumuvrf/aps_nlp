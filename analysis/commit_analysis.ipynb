{
 "cells": [
  {
   "cell_type": "markdown",
   "id": "d162436e",
   "metadata": {},
   "source": [
    "# Análise de Mensagens de Commit\n",
    "\n",
    "Este notebook tem como objetivo analisar mensagens de commit de estudantes utilizando técnicas básicas de Processamento de Linguagem Natural (PLN). O objetivo final é treinar um modelo que seja capaz de identificar mensagens que não são minimamente explicativas, servindo como base para um gancho (`hook`) do Git que bloqueie commits mal escritos."
   ]
  },
  {
   "cell_type": "markdown",
   "id": "762ba6dc",
   "metadata": {},
   "source": [
    "## Carregamento dos Dados\n",
    "\n",
    "Inicialmente, carregamos os dados extraídos da API do GitHub. As mensagens de commit foram coletadas de projetos de estudantes, organizadas em um arquivo Excel. Também realizamos um pré-processamento para limpar dados nulos e ajustar os nomes das colunas.\n"
   ]
  },
  {
   "cell_type": "code",
   "execution_count": 12,
   "id": "06a6c598",
   "metadata": {},
   "outputs": [
    {
     "data": {
      "text/html": [
       "<div>\n",
       "<style scoped>\n",
       "    .dataframe tbody tr th:only-of-type {\n",
       "        vertical-align: middle;\n",
       "    }\n",
       "\n",
       "    .dataframe tbody tr th {\n",
       "        vertical-align: top;\n",
       "    }\n",
       "\n",
       "    .dataframe thead th {\n",
       "        text-align: right;\n",
       "    }\n",
       "</style>\n",
       "<table border=\"1\" class=\"dataframe\">\n",
       "  <thead>\n",
       "    <tr style=\"text-align: right;\">\n",
       "      <th></th>\n",
       "      <th>0</th>\n",
       "      <th>code</th>\n",
       "      <th>message</th>\n",
       "      <th>message_english</th>\n",
       "      <th>is_code_related</th>\n",
       "    </tr>\n",
       "  </thead>\n",
       "  <tbody>\n",
       "    <tr>\n",
       "      <th>0</th>\n",
       "      <td>1</td>\n",
       "      <td>\\nFile:amigos.html\\nCode modifications:\\n@@ -2...</td>\n",
       "      <td>Merge pull request #1 from mumuvrf/franco\\n\\na...</td>\n",
       "      <td>Merge pull request #1 from mumuvrf/franco\\n\\na...</td>\n",
       "      <td>1</td>\n",
       "    </tr>\n",
       "    <tr>\n",
       "      <th>1</th>\n",
       "      <td>2</td>\n",
       "      <td>\\nFile:amigos.html\\nCode modifications:\\n@@ -2...</td>\n",
       "      <td>alteracao campus mobile</td>\n",
       "      <td>Change Mobile Campus</td>\n",
       "      <td>0</td>\n",
       "    </tr>\n",
       "    <tr>\n",
       "      <th>2</th>\n",
       "      <td>3</td>\n",
       "      <td>\\nFile:css/index.css\\nCode modifications:\\n@@ ...</td>\n",
       "      <td>Corrige os botões</td>\n",
       "      <td>Corrects the buttons</td>\n",
       "      <td>1</td>\n",
       "    </tr>\n",
       "  </tbody>\n",
       "</table>\n",
       "</div>"
      ],
      "text/plain": [
       "0  0                                               code  \\\n",
       "0  1  \\nFile:amigos.html\\nCode modifications:\\n@@ -2...   \n",
       "1  2  \\nFile:amigos.html\\nCode modifications:\\n@@ -2...   \n",
       "2  3  \\nFile:css/index.css\\nCode modifications:\\n@@ ...   \n",
       "\n",
       "0                                            message  \\\n",
       "0  Merge pull request #1 from mumuvrf/franco\\n\\na...   \n",
       "1                            alteracao campus mobile   \n",
       "2                                  Corrige os botões   \n",
       "\n",
       "0                                    message_english is_code_related  \n",
       "0  Merge pull request #1 from mumuvrf/franco\\n\\na...               1  \n",
       "1                               Change Mobile Campus               0  \n",
       "2                               Corrects the buttons               1  "
      ]
     },
     "execution_count": 12,
     "metadata": {},
     "output_type": "execute_result"
    }
   ],
   "source": [
    "import pandas as pd\n",
    "\n",
    "df = pd.read_excel('data.xlsx')\n",
    "df.columns = df.iloc[0]\n",
    "df = df[1:]\n",
    "df = df.dropna()\n",
    "df = df.reset_index(drop=True)\n",
    "df.head(3)"
   ]
  },
  {
   "cell_type": "markdown",
   "id": "69fa62a9",
   "metadata": {},
   "source": [
    "## Ajuste das Variáveis\n",
    "\n",
    "Algumas variáveis são transformadas para facilitar a leitura e posterior modelagem. Por exemplo, a coluna `is_code_related`, que inicialmente possui valores binários, é convertida em texto para facilitar a interpretação.\n"
   ]
  },
  {
   "cell_type": "code",
   "execution_count": 13,
   "id": "4d60e54f",
   "metadata": {},
   "outputs": [],
   "source": [
    "df['is_code_related'] = df['is_code_related'].apply(lambda x: \"yes\" if x == 1 else \"no\")"
   ]
  },
  {
   "cell_type": "markdown",
   "id": "90122192",
   "metadata": {},
   "source": [
    "## Treinamento do Modelo\n",
    "\n",
    "Utilizamos a técnica de Bag-of-Words para transformar as mensagens de commit em vetores numéricos, tornando possível a aplicação de modelos estatísticos. Nesta etapa, também removemos palavras irrelevantes (stopwords) e aplicamos o `CountVectorizer`.\n",
    "Com os dados vetorizados, treinamos um modelo de Regressão Logística para classificar mensagens como válidas ou inválidas. O modelo é simples, mas eficaz para este tipo de tarefa binária."
   ]
  },
  {
   "cell_type": "code",
   "execution_count": 19,
   "id": "d9c00ad3",
   "metadata": {},
   "outputs": [
    {
     "name": "stdout",
     "output_type": "stream",
     "text": [
      "Recall: 0.88\n"
     ]
    }
   ],
   "source": [
    "from sklearn.model_selection import train_test_split\n",
    "from sklearn.feature_extraction.text import CountVectorizer, TfidfVectorizer\n",
    "from sklearn.linear_model import LogisticRegression\n",
    "from sklearn.pipeline import Pipeline\n",
    "from sklearn.metrics import recall_score\n",
    "\n",
    "model = Pipeline([\n",
    "    ('vectorizer', CountVectorizer(binary=True)),\n",
    "    ('classifier', LogisticRegression())\n",
    "])\n",
    "\n",
    "X_train, X_test, y_train, y_test = train_test_split(df['message_english'], df['is_code_related'], test_size=0.2)\n",
    "model.fit(X_train, y_train)\n",
    "y_pred = model.predict(X_test)\n",
    "\n",
    "recall = recall_score(y_test, y_pred, average='macro')\n",
    "print(f'Recall: {recall:.2f}')"
   ]
  },
  {
   "cell_type": "markdown",
   "id": "9aefcdb7",
   "metadata": {},
   "source": [
    "## Avaliação do Modelo\n",
    "\n",
    "Avaliamos o desempenho do modelo utilizando a métrica de *recall*, que é especialmente relevante neste caso, pois nos interessa evitar o excesso de falsos negativos. Também usamos a matriz de confusão para entender o equilíbrio entre classes."
   ]
  },
  {
   "cell_type": "code",
   "execution_count": 20,
   "id": "5bb09718",
   "metadata": {},
   "outputs": [
    {
     "name": "stdout",
     "output_type": "stream",
     "text": [
      "[[0.86363636 0.13636364]\n",
      " [0.09821429 0.90178571]]\n"
     ]
    },
    {
     "data": {
      "image/png": "[encoded data removed]",
      "text/plain": [
       "<Figure size 640x480 with 2 Axes>"
      ]
     },
     "metadata": {},
     "output_type": "display_data"
    }
   ],
   "source": [
    "import matplotlib.pyplot as plt\n",
    "from sklearn.metrics import confusion_matrix,  ConfusionMatrixDisplay\n",
    "\n",
    "c = confusion_matrix(y_test, y_pred, normalize='true')\n",
    "print(c)\n",
    "_ = ConfusionMatrixDisplay(c, display_labels=['negative', 'positive']).plot()"
   ]
  },
  {
   "cell_type": "markdown",
   "id": "925948de",
   "metadata": {},
   "source": [
    "## Salvamento do Modelo\n",
    "\n",
    "Depois de ajustar e validar o modelo, salvamos seus parâmetros em um arquivo `.pkl` para que possam ser reutilizados por um gancho de pré-commit no Git.\n"
   ]
  },
  {
   "cell_type": "code",
   "execution_count": null,
   "id": "413a6fa6",
   "metadata": {},
   "outputs": [],
   "source": [
    "import joblib\n",
    "\n",
    "# Save the entire pipeline (vectorizer + classifier)\n",
    "joblib.dump(model, './scripts/models/commit_message_classifier.pkl')"
   ]
  }
 ],
 "metadata": {
  "kernelspec": {
   "display_name": "env",
   "language": "python",
   "name": "python3"
  },
  "language_info": {
   "codemirror_mode": {
    "name": "ipython",
    "version": 3
   },
   "file_extension": ".py",
   "mimetype": "text/x-python",
   "name": "python",
   "nbconvert_exporter": "python",
   "pygments_lexer": "ipython3",
   "version": "3.10.11"
  }
 },
 "nbformat": 4,
 "nbformat_minor": 5
}
